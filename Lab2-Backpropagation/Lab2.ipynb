{
  "nbformat": 4,
  "nbformat_minor": 0,
  "metadata": {
    "colab": {
      "name": "Lab2.ipynb",
      "provenance": [],
      "collapsed_sections": [
        "p6QftUC88tY5",
        "6nJx_ND88mFf",
        "ypUUIdbTVqI_",
        "SVR9Qp5RVxGz",
        "-EQojNaCYSq9",
        "gkXtQlFkYjqT"
      ]
    },
    "kernelspec": {
      "name": "python3",
      "display_name": "Python 3"
    },
    "language_info": {
      "name": "python"
    }
  },
  "cells": [
    {
      "cell_type": "markdown",
      "source": [
        "# Import Libraries"
      ],
      "metadata": {
        "id": "No5zh9nL-JiZ"
      }
    },
    {
      "cell_type": "code",
      "execution_count": 1,
      "metadata": {
        "id": "1KcOoC64gB7m"
      },
      "outputs": [],
      "source": [
        "import numpy as np\n",
        "import matplotlib.pyplot as plt\n",
        "import time"
      ]
    },
    {
      "cell_type": "markdown",
      "source": [
        "# Define Model"
      ],
      "metadata": {
        "id": "F9uy0tRW-E13"
      }
    },
    {
      "cell_type": "code",
      "source": [
        "class linear:\n",
        "  def __init__(self, input_dim, output_dim):\n",
        "    self.input_dim = input_dim\n",
        "    self.output_dim = output_dim\n",
        "    self.w = np.random.randn(input_dim, output_dim)\n",
        "    self.gradient = np.zeros_like(self.w)\n",
        "\n",
        "  def forward(self, x):\n",
        "    self.input = x\n",
        "    out = x @ self.w\n",
        "    return out\n",
        "\n",
        "  def backprop(self, loss):\n",
        "    self.gradient = self.input.T @ loss\n",
        "\n",
        "    loss = loss @ self.w.T\n",
        "    return loss\n",
        "\n",
        "  def update(self, lr):\n",
        "    self.w -= lr * self.gradient"
      ],
      "metadata": {
        "id": "fYRj5WiXiiio"
      },
      "execution_count": 2,
      "outputs": []
    },
    {
      "cell_type": "code",
      "source": [
        "class sigmoid:\n",
        "  def __init__(self):\n",
        "    pass\n",
        "\n",
        "  def forward(self, x):\n",
        "    self.input = x\n",
        "    return 1.0 / (1.0+np.exp(-x))\n",
        "\n",
        "  def backprop(self, loss):\n",
        "    derivative_sig = self.forward(self.input) * (1-self.forward(self.input))\n",
        "    return derivative_sig * loss"
      ],
      "metadata": {
        "id": "ws-Rg83OkBeU"
      },
      "execution_count": 3,
      "outputs": []
    },
    {
      "cell_type": "code",
      "source": [
        "class tanh:\n",
        "  def __init__(self):\n",
        "    pass\n",
        "\n",
        "  def forward(self, x):\n",
        "    self.input = x\n",
        "    return np.tanh(x)\n",
        "\n",
        "  def backprop(self, loss):\n",
        "    derivative_tanh = 1.0 / (np.cosh(self.input)**2)\n",
        "    return derivative_tanh * loss"
      ],
      "metadata": {
        "id": "RwxE_qUaeHUg"
      },
      "execution_count": 30,
      "outputs": []
    },
    {
      "cell_type": "code",
      "source": [
        "class Model:\n",
        "  def __init__(self, input_dim=2, hidden_dim=10, output_dim=1, ACT='Sigmoid'):\n",
        "    self.fc1 = linear(input_dim, hidden_dim)\n",
        "    self.fc2 = linear(hidden_dim, hidden_dim)\n",
        "    self.fc3 = linear(hidden_dim, output_dim)\n",
        "\n",
        "    self.ACT = ACT\n",
        "    self.w_act = 1\n",
        "    if self.ACT == 'Sigmoid':\n",
        "      self.act1 = sigmoid()\n",
        "      self.act2 = sigmoid()\n",
        "      self.act3 = sigmoid()\n",
        "    elif self.ACT == 'tanh':\n",
        "      self.act1 = tanh()\n",
        "      self.act2 = tanh()\n",
        "      self.act3 = tanh()\n",
        "    else:\n",
        "      self.w_act = 0\n",
        "\n",
        "  def forward(self, x):\n",
        "    out = self.fc1.forward(x)\n",
        "    if self.w_act:\n",
        "      out = self.act1.forward(out)\n",
        "    out = self.fc2.forward(out)\n",
        "    if self.w_act:\n",
        "      out = self.act2.forward(out)\n",
        "    out = self.fc3.forward(out)\n",
        "    if self.w_act:\n",
        "      out = self.act3.forward(out)\n",
        "\n",
        "    return out\n",
        "\n",
        "  def CrossEntropyLoss(self, pred, label):\n",
        "    loss = -(label*np.log2(pred) + (1.0-label)*np.log2(1-pred))\n",
        "    derivative_loss = -label*(1/pred) + (1-label)*(1/(1-pred))\n",
        "    return loss, derivative_loss\n",
        "  \n",
        "  def MSELoss(self, pred, label):\n",
        "    loss = (pred - label) ** 2\n",
        "    derivative_loss = 2 * (pred - label)\n",
        "    return loss, derivative_loss\n",
        "\n",
        "  def backprop(self, derivative_loss):\n",
        "    if self.w_act:\n",
        "      derivative_loss = self.act3.backprop(derivative_loss)\n",
        "    derivative_loss = self.fc3.backprop(derivative_loss)\n",
        "    if self.w_act:\n",
        "      derivative_loss = self.act2.backprop(derivative_loss)\n",
        "    derivative_loss = self.fc2.backprop(derivative_loss)\n",
        "    if self.w_act:\n",
        "      derivative_loss = self.act1.backprop(derivative_loss)\n",
        "    derivative_loss = self.fc1.backprop(derivative_loss)\n",
        "  \n",
        "  def update(self, lr):\n",
        "    self.fc1.update(lr)\n",
        "    self.fc2.update(lr)\n",
        "    self.fc3.update(lr)\n",
        "\n",
        "  def accuracy(self, pred, label):\n",
        "    return np.sum(np.round(pred)==label) / label.shape[0]"
      ],
      "metadata": {
        "id": "AWUN7sdpgO3q"
      },
      "execution_count": 15,
      "outputs": []
    },
    {
      "cell_type": "code",
      "source": [
        "def generate_linear(n=100):\n",
        "  pts = np.random.uniform(0, 1, (n, 2))\n",
        "  inputs = []\n",
        "  labels = []\n",
        "  for pt in pts:\n",
        "    inputs.append([pt[0], pt[1]])\n",
        "    # distance = (pt[0]-pt[1]) / 1.414\n",
        "    if pt[0] > pt[1]:\n",
        "      labels.append(0)\n",
        "    else:\n",
        "      labels.append(1)\n",
        "  return np.array(inputs), np.array(labels).reshape(n, 1)"
      ],
      "metadata": {
        "id": "c2nMOOSHlzt_"
      },
      "execution_count": 6,
      "outputs": []
    },
    {
      "cell_type": "code",
      "source": [
        "def generate_XOR_easy():\n",
        "  inputs = []\n",
        "  labels = []\n",
        "\n",
        "  for i in range(11):\n",
        "    inputs.append([0.1*i, 0.1*i])\n",
        "    labels.append(0)\n",
        "\n",
        "    if 0.1*i == 0.5:\n",
        "      continue\n",
        "\n",
        "    inputs.append([0.1*i, 1-0.1*i])\n",
        "    labels.append(1)\n",
        "\n",
        "  return np.array(inputs), np.array(labels).reshape(21, 1)"
      ],
      "metadata": {
        "id": "fAGpu9OfnCGa"
      },
      "execution_count": 7,
      "outputs": []
    },
    {
      "cell_type": "code",
      "source": [
        "def show_result(x, y, pred_y):\n",
        "  import matplotlib.pyplot as plt\n",
        "  plt.subplot(1, 2, 1) # 1 row, 1 column\n",
        "  plt.title('Ground truth', fontsize=18)\n",
        "  for i in range(x.shape[0]):\n",
        "    if y[i] == 0:\n",
        "      plt.plot(x[i][0], x[i][1], 'ro')\n",
        "    else:\n",
        "      plt.plot(x[i][0], x[i][1], 'bo')\n",
        "  \n",
        "  plt.subplot(1, 2, 2)\n",
        "  plt.title ('Predict result', fontsize=18)\n",
        "  for i in range(x.shape[0]):\n",
        "    if pred_y[i] == 0:\n",
        "      plt.plot(x[i][0], x[i][1], 'ro')\n",
        "    else:\n",
        "      plt.plot(x[i][0], x[i][1], 'bo')\n",
        "\n",
        "  plt.show()"
      ],
      "metadata": {
        "id": "QzO0LaPN0yc4"
      },
      "execution_count": 8,
      "outputs": []
    },
    {
      "cell_type": "code",
      "source": [
        "def show_learning_curve(loss):\n",
        "  plt.title('Learning curve', fontsize=18)\n",
        "  plt.ylabel('loss')\n",
        "  plt.xlabel('Epoch')\n",
        "\n",
        "  epoch = np.array([x+1 for x in range(len(loss))])\n",
        "  plt.plot(epoch*5000, loss)\n",
        "\n",
        "  plt.show()"
      ],
      "metadata": {
        "id": "KazmHyjUMd8O"
      },
      "execution_count": 9,
      "outputs": []
    },
    {
      "cell_type": "markdown",
      "source": [
        "# Linear"
      ],
      "metadata": {
        "id": "p6QftUC88tY5"
      }
    },
    {
      "cell_type": "code",
      "source": [
        "# hyperparameters\n",
        "epoch_num = 100000\n",
        "lr = 0.001"
      ],
      "metadata": {
        "id": "dqf3lL595RPy"
      },
      "execution_count": null,
      "outputs": []
    },
    {
      "cell_type": "code",
      "source": [
        "# Train\n",
        "# prepare data\n",
        "train_x, train_y = generate_linear(100)\n",
        "# create model\n",
        "model = Model()\n",
        "loss_curve = []\n",
        "start = time.time()\n",
        "\n",
        "for epoch in range(epoch_num):\n",
        "  # Forward pass\n",
        "  pred_y = model.forward(train_x)\n",
        "  # Backward pass\n",
        "  loss, derivative_loss = model.CrossEntropyLoss(pred_y, train_y)\n",
        "  model.backprop(derivative_loss)\n",
        "  # Update weights\n",
        "  model.update(lr)\n",
        "\n",
        "  # print state\n",
        "  if (epoch+1) % 5000 == 0:\n",
        "    total_loss = np.sum(loss)/train_x.shape[0]\n",
        "    loss_curve.append(total_loss)\n",
        "    acc = model.accuracy(pred_y, train_y)\n",
        "    train_time = int(time.time() - start)\n",
        "    print(f'epoch {epoch+1:5d} loss: {total_loss:7.5f} accuracy: {acc:.2%} time: {train_time:3d} sec')"
      ],
      "metadata": {
        "colab": {
          "base_uri": "https://localhost:8080/"
        },
        "id": "TBduovRX2yq_",
        "outputId": "17b4603b-812e-4c5d-a644-6a579b9a6d02"
      },
      "execution_count": null,
      "outputs": [
        {
          "output_type": "stream",
          "name": "stdout",
          "text": [
            "epoch  5000 loss: 0.07245 accuracy: 100.00% time:   1 sec\n",
            "epoch 10000 loss: 0.03912 accuracy: 100.00% time:   2 sec\n",
            "epoch 15000 loss: 0.02476 accuracy: 100.00% time:   5 sec\n",
            "epoch 20000 loss: 0.01718 accuracy: 100.00% time:   8 sec\n",
            "epoch 25000 loss: 0.01273 accuracy: 100.00% time:  12 sec\n",
            "epoch 30000 loss: 0.00989 accuracy: 100.00% time:  14 sec\n",
            "epoch 35000 loss: 0.00796 accuracy: 100.00% time:  15 sec\n",
            "epoch 40000 loss: 0.00659 accuracy: 100.00% time:  17 sec\n",
            "epoch 45000 loss: 0.00557 accuracy: 100.00% time:  18 sec\n",
            "epoch 50000 loss: 0.00479 accuracy: 100.00% time:  19 sec\n",
            "epoch 55000 loss: 0.00418 accuracy: 100.00% time:  21 sec\n",
            "epoch 60000 loss: 0.00369 accuracy: 100.00% time:  22 sec\n",
            "epoch 65000 loss: 0.00329 accuracy: 100.00% time:  23 sec\n",
            "epoch 70000 loss: 0.00296 accuracy: 100.00% time:  25 sec\n",
            "epoch 75000 loss: 0.00269 accuracy: 100.00% time:  26 sec\n",
            "epoch 80000 loss: 0.00245 accuracy: 100.00% time:  27 sec\n",
            "epoch 85000 loss: 0.00225 accuracy: 100.00% time:  29 sec\n",
            "epoch 90000 loss: 0.00207 accuracy: 100.00% time:  30 sec\n",
            "epoch 95000 loss: 0.00192 accuracy: 100.00% time:  31 sec\n",
            "epoch 100000 loss: 0.00179 accuracy: 100.00% time:  33 sec\n"
          ]
        }
      ]
    },
    {
      "cell_type": "code",
      "source": [
        "# Test\n",
        "test_x, test_y = generate_linear()\n",
        "pred_y = model.forward(test_x)\n",
        "acc = model.accuracy(pred_y, test_y)\n",
        "print(f'Linear predict:\\n{pred_y}')\n",
        "print(f'Linear accuracy : {acc:.2%}')"
      ],
      "metadata": {
        "colab": {
          "base_uri": "https://localhost:8080/"
        },
        "id": "mn2nuVeI3hLE",
        "outputId": "e37a6dc9-7adc-44fc-b236-f34da1a4b880"
      },
      "execution_count": null,
      "outputs": [
        {
          "output_type": "stream",
          "name": "stdout",
          "text": [
            "Linear predict:\n",
            "[[1.43510935e-11]\n",
            " [5.80406958e-12]\n",
            " [1.00000000e+00]\n",
            " [7.44829632e-12]\n",
            " [1.00000000e+00]\n",
            " [1.60078015e-11]\n",
            " [6.93161641e-09]\n",
            " [8.80987351e-11]\n",
            " [5.50176120e-12]\n",
            " [1.23593363e-08]\n",
            " [1.00000000e+00]\n",
            " [5.96255962e-12]\n",
            " [1.85372320e-05]\n",
            " [1.00000000e+00]\n",
            " [1.00000000e+00]\n",
            " [7.05001724e-12]\n",
            " [9.99991143e-01]\n",
            " [6.07197956e-12]\n",
            " [5.75929246e-12]\n",
            " [9.37003098e-12]\n",
            " [9.99999984e-01]\n",
            " [9.99999393e-01]\n",
            " [7.78196505e-12]\n",
            " [1.00000000e+00]\n",
            " [1.40402451e-09]\n",
            " [9.99999951e-01]\n",
            " [1.00000000e+00]\n",
            " [6.40546024e-12]\n",
            " [1.00000000e+00]\n",
            " [1.00000000e+00]\n",
            " [9.99999999e-01]\n",
            " [9.19805267e-04]\n",
            " [1.00000000e+00]\n",
            " [1.50851944e-11]\n",
            " [1.00000000e+00]\n",
            " [1.00000000e+00]\n",
            " [1.09829490e-11]\n",
            " [5.83737829e-01]\n",
            " [9.96150916e-01]\n",
            " [1.00000000e+00]\n",
            " [7.22817645e-12]\n",
            " [5.72923357e-11]\n",
            " [9.99988518e-01]\n",
            " [1.00000000e+00]\n",
            " [1.11460485e-11]\n",
            " [1.72574561e-11]\n",
            " [9.99999886e-01]\n",
            " [3.35302363e-11]\n",
            " [7.48582586e-11]\n",
            " [6.23690650e-12]\n",
            " [1.00000000e+00]\n",
            " [6.97013054e-04]\n",
            " [3.58388460e-11]\n",
            " [5.77027083e-11]\n",
            " [7.02127346e-12]\n",
            " [7.02611288e-12]\n",
            " [1.00000000e+00]\n",
            " [9.99994349e-01]\n",
            " [7.80327145e-12]\n",
            " [9.99999999e-01]\n",
            " [1.00000000e+00]\n",
            " [1.00000000e+00]\n",
            " [1.00000000e+00]\n",
            " [1.00000000e+00]\n",
            " [9.99999149e-01]\n",
            " [7.86890645e-12]\n",
            " [1.00000000e+00]\n",
            " [7.94017542e-11]\n",
            " [3.49100382e-10]\n",
            " [2.33321191e-11]\n",
            " [6.18533330e-12]\n",
            " [3.36926269e-11]\n",
            " [1.00000000e+00]\n",
            " [6.25458437e-12]\n",
            " [1.00000000e+00]\n",
            " [1.00000000e+00]\n",
            " [8.00493696e-12]\n",
            " [9.99883455e-01]\n",
            " [9.99999973e-01]\n",
            " [8.00721692e-09]\n",
            " [9.04453025e-12]\n",
            " [2.74021728e-11]\n",
            " [1.00000000e+00]\n",
            " [6.46046843e-11]\n",
            " [9.99999868e-01]\n",
            " [1.00000000e+00]\n",
            " [1.72074019e-11]\n",
            " [1.00000000e+00]\n",
            " [9.99999999e-01]\n",
            " [2.95722075e-09]\n",
            " [9.99999999e-01]\n",
            " [1.00000000e+00]\n",
            " [2.09620803e-11]\n",
            " [1.00000000e+00]\n",
            " [1.00000000e+00]\n",
            " [2.31369600e-09]\n",
            " [2.06170055e-11]\n",
            " [4.53498135e-11]\n",
            " [1.76434673e-07]\n",
            " [6.87762009e-12]]\n",
            "Linear accuracy : 100.00%\n"
          ]
        }
      ]
    },
    {
      "cell_type": "code",
      "source": [
        "# draw result picture\n",
        "show_result(test_x, test_y, np.round(pred_y))"
      ],
      "metadata": {
        "colab": {
          "base_uri": "https://localhost:8080/",
          "height": 285
        },
        "id": "VHuRAh6l9sAx",
        "outputId": "0d85b494-54d8-4d77-d3d0-da9bd64b4730"
      },
      "execution_count": null,
      "outputs": [
        {
          "output_type": "display_data",
          "data": {
            "text/plain": [
              "<Figure size 432x288 with 2 Axes>"
            ],
            "image/png": "[encoded data removed]"
          },
          "metadata": {
            "needs_background": "light"
          }
        }
      ]
    },
    {
      "cell_type": "code",
      "source": [
        "# draw learning curve\n",
        "show_learning_curve(loss_curve)"
      ],
      "metadata": {
        "colab": {
          "base_uri": "https://localhost:8080/",
          "height": 299
        },
        "id": "AlkwQSX1OJJW",
        "outputId": "c06998a1-9b3c-4c7c-cb96-ed48de0a1a29"
      },
      "execution_count": null,
      "outputs": [
        {
          "output_type": "display_data",
          "data": {
            "text/plain": [
              "<Figure size 432x288 with 1 Axes>"
            ],
            "image/png": "[encoded data removed]"
          },
          "metadata": {
            "needs_background": "light"
          }
        }
      ]
    },
    {
      "cell_type": "markdown",
      "source": [
        "# XOR"
      ],
      "metadata": {
        "id": "6nJx_ND88mFf"
      }
    },
    {
      "cell_type": "code",
      "source": [
        "# hyperparameters\n",
        "epoch_num = 100000\n",
        "lr = 0.001"
      ],
      "metadata": {
        "id": "cFebn2-V95pp"
      },
      "execution_count": null,
      "outputs": []
    },
    {
      "cell_type": "code",
      "source": [
        "# Train\n",
        "# prepare data\n",
        "train_x, train_y = generate_XOR_easy()\n",
        "# create model\n",
        "model = Model()\n",
        "loss_curve = []\n",
        "start = time.time()\n",
        "\n",
        "for epoch in range(epoch_num):\n",
        "  # Forward pass\n",
        "  pred_y = model.forward(train_x)\n",
        "  # Backward pass\n",
        "  loss, derivative_loss = model.CrossEntropyLoss(pred_y, train_y)\n",
        "  model.backprop(derivative_loss)\n",
        "  # Update weights\n",
        "  model.update(lr)\n",
        "\n",
        "  # print state\n",
        "  if (epoch+1) % 5000 == 0:\n",
        "    total_loss = np.sum(loss)/train_x.shape[0]\n",
        "    loss_curve.append(total_loss)\n",
        "    acc = model.accuracy(pred_y, train_y)\n",
        "    train_time = int(time.time() - start)\n",
        "    print(f'epoch {epoch+1:5d} loss: {total_loss:7.5f} accuracy: {acc:.2%} time: {train_time:5d} sec')"
      ],
      "metadata": {
        "colab": {
          "base_uri": "https://localhost:8080/"
        },
        "id": "X32ImP7u4Du8",
        "outputId": "84c63d4f-5b18-4dbe-8d8b-bb5cad5ca085"
      },
      "execution_count": null,
      "outputs": [
        {
          "output_type": "stream",
          "name": "stdout",
          "text": [
            "epoch  5000 loss: 0.94267 accuracy: 71.43% time:     0 sec\n",
            "epoch 10000 loss: 0.75885 accuracy: 80.95% time:     1 sec\n",
            "epoch 15000 loss: 0.45125 accuracy: 90.48% time:     2 sec\n",
            "epoch 20000 loss: 0.23779 accuracy: 95.24% time:     2 sec\n",
            "epoch 25000 loss: 0.13271 accuracy: 100.00% time:     3 sec\n",
            "epoch 30000 loss: 0.08109 accuracy: 100.00% time:     4 sec\n",
            "epoch 35000 loss: 0.05468 accuracy: 100.00% time:     4 sec\n",
            "epoch 40000 loss: 0.03989 accuracy: 100.00% time:     5 sec\n",
            "epoch 45000 loss: 0.03082 accuracy: 100.00% time:     6 sec\n",
            "epoch 50000 loss: 0.02482 accuracy: 100.00% time:     7 sec\n",
            "epoch 55000 loss: 0.02063 accuracy: 100.00% time:     7 sec\n",
            "epoch 60000 loss: 0.01755 accuracy: 100.00% time:     8 sec\n",
            "epoch 65000 loss: 0.01521 accuracy: 100.00% time:     9 sec\n",
            "epoch 70000 loss: 0.01338 accuracy: 100.00% time:     9 sec\n",
            "epoch 75000 loss: 0.01192 accuracy: 100.00% time:    10 sec\n",
            "epoch 80000 loss: 0.01073 accuracy: 100.00% time:    11 sec\n",
            "epoch 85000 loss: 0.00974 accuracy: 100.00% time:    11 sec\n",
            "epoch 90000 loss: 0.00890 accuracy: 100.00% time:    12 sec\n",
            "epoch 95000 loss: 0.00819 accuracy: 100.00% time:    13 sec\n",
            "epoch 100000 loss: 0.00758 accuracy: 100.00% time:    13 sec\n"
          ]
        }
      ]
    },
    {
      "cell_type": "code",
      "source": [
        "# Test\n",
        "test_x, test_y = generate_XOR_easy()\n",
        "pred_y = model.forward(test_x)\n",
        "acc = model.accuracy(pred_y, test_y)\n",
        "print(f'XOR predict:\\n{pred_y}')\n",
        "print(f'XOR accuracy : {acc:.2%}')"
      ],
      "metadata": {
        "colab": {
          "base_uri": "https://localhost:8080/"
        },
        "id": "yPh-ota89TlX",
        "outputId": "6c4b55a8-98a6-4f14-94d4-c9664933826b"
      },
      "execution_count": null,
      "outputs": [
        {
          "output_type": "stream",
          "name": "stdout",
          "text": [
            "XOR predict:\n",
            "[[2.78711088e-04]\n",
            " [9.98017977e-01]\n",
            " [1.16170694e-03]\n",
            " [9.97778979e-01]\n",
            " [3.53414147e-03]\n",
            " [9.97238478e-01]\n",
            " [6.63308652e-03]\n",
            " [9.95937136e-01]\n",
            " [8.36462959e-03]\n",
            " [9.81255829e-01]\n",
            " [8.20212283e-03]\n",
            " [6.98710644e-03]\n",
            " [9.75612585e-01]\n",
            " [5.53459540e-03]\n",
            " [9.98105581e-01]\n",
            " [4.23854668e-03]\n",
            " [9.98879145e-01]\n",
            " [3.20816103e-03]\n",
            " [9.99024958e-01]\n",
            " [2.43021937e-03]\n",
            " [9.99056436e-01]]\n",
            "XOR accuracy : 100.00%\n"
          ]
        }
      ]
    },
    {
      "cell_type": "code",
      "source": [
        "# draw result picture\n",
        "show_result(test_x, test_y, np.round(pred_y))"
      ],
      "metadata": {
        "colab": {
          "base_uri": "https://localhost:8080/",
          "height": 285
        },
        "id": "iotqbAzN9yxF",
        "outputId": "530b4ad6-97a4-4d2d-8276-881670df0df5"
      },
      "execution_count": null,
      "outputs": [
        {
          "output_type": "display_data",
          "data": {
            "text/plain": [
              "<Figure size 432x288 with 2 Axes>"
            ],
            "image/png": "[encoded data removed]"
          },
          "metadata": {
            "needs_background": "light"
          }
        }
      ]
    },
    {
      "cell_type": "code",
      "source": [
        "# draw learning curve\n",
        "show_learning_curve(loss_curve)"
      ],
      "metadata": {
        "colab": {
          "base_uri": "https://localhost:8080/",
          "height": 299
        },
        "id": "8liA-ntoOPbc",
        "outputId": "2f1b83d1-cb6c-4b8f-f335-23307020bffa"
      },
      "execution_count": null,
      "outputs": [
        {
          "output_type": "display_data",
          "data": {
            "text/plain": [
              "<Figure size 432x288 with 1 Axes>"
            ],
            "image/png": "[encoded data removed]"
          },
          "metadata": {
            "needs_background": "light"
          }
        }
      ]
    },
    {
      "cell_type": "markdown",
      "source": [
        "# Discusion"
      ],
      "metadata": {
        "id": "wCJQlUuOVFjN"
      }
    },
    {
      "cell_type": "markdown",
      "source": [
        "## Learing Rate = 0.00001"
      ],
      "metadata": {
        "id": "ypUUIdbTVqI_"
      }
    },
    {
      "cell_type": "code",
      "source": [
        "# hyperparameters\n",
        "epoch_num = 100000\n",
        "lr = 0.00001"
      ],
      "metadata": {
        "id": "QaASoV-mVfa6"
      },
      "execution_count": null,
      "outputs": []
    },
    {
      "cell_type": "code",
      "source": [
        "# Train\n",
        "# prepare data\n",
        "train_x, train_y = generate_linear(100)\n",
        "# create model\n",
        "model = Model()\n",
        "loss_curve = []\n",
        "start = time.time()\n",
        "\n",
        "for epoch in range(epoch_num):\n",
        "  # Forward pass\n",
        "  pred_y = model.forward(train_x)\n",
        "  # Backward pass\n",
        "  loss, derivative_loss = model.CrossEntropyLoss(pred_y, train_y)\n",
        "  model.backprop(derivative_loss)\n",
        "  # Update weights\n",
        "  model.update(lr)\n",
        "\n",
        "  # print state\n",
        "  if (epoch+1) % 5000 == 0:\n",
        "    total_loss = np.sum(loss)/train_x.shape[0]\n",
        "    loss_curve.append(total_loss)\n",
        "    acc = model.accuracy(pred_y, train_y)\n",
        "    train_time = int(time.time() - start)\n",
        "    print(f'epoch {epoch+1:5d} loss: {total_loss:7.5f} accuracy: {acc:.2%} time: {train_time:3d} sec')"
      ],
      "metadata": {
        "colab": {
          "base_uri": "https://localhost:8080/"
        },
        "outputId": "6c137ef3-3373-464a-892b-e87d078bddd9",
        "id": "txCO1gw9Vfa7"
      },
      "execution_count": null,
      "outputs": [
        {
          "output_type": "stream",
          "name": "stdout",
          "text": [
            "epoch  5000 loss: 0.99885 accuracy: 52.00% time:   1 sec\n",
            "epoch 10000 loss: 0.97775 accuracy: 53.00% time:   2 sec\n",
            "epoch 15000 loss: 0.95627 accuracy: 58.00% time:   4 sec\n",
            "epoch 20000 loss: 0.93308 accuracy: 65.00% time:   5 sec\n",
            "epoch 25000 loss: 0.90694 accuracy: 78.00% time:   6 sec\n",
            "epoch 30000 loss: 0.87667 accuracy: 79.00% time:   7 sec\n",
            "epoch 35000 loss: 0.84118 accuracy: 84.00% time:   9 sec\n",
            "epoch 40000 loss: 0.79969 accuracy: 87.00% time:  10 sec\n",
            "epoch 45000 loss: 0.75201 accuracy: 91.00% time:  11 sec\n",
            "epoch 50000 loss: 0.69890 accuracy: 94.00% time:  13 sec\n",
            "epoch 55000 loss: 0.64218 accuracy: 97.00% time:  14 sec\n",
            "epoch 60000 loss: 0.58448 accuracy: 98.00% time:  15 sec\n",
            "epoch 65000 loss: 0.52857 accuracy: 99.00% time:  17 sec\n",
            "epoch 70000 loss: 0.47673 accuracy: 99.00% time:  18 sec\n",
            "epoch 75000 loss: 0.43027 accuracy: 99.00% time:  19 sec\n",
            "epoch 80000 loss: 0.38961 accuracy: 99.00% time:  21 sec\n",
            "epoch 85000 loss: 0.35454 accuracy: 99.00% time:  22 sec\n",
            "epoch 90000 loss: 0.32449 accuracy: 99.00% time:  23 sec\n",
            "epoch 95000 loss: 0.29878 accuracy: 99.00% time:  25 sec\n",
            "epoch 100000 loss: 0.27673 accuracy: 99.00% time:  26 sec\n"
          ]
        }
      ]
    },
    {
      "cell_type": "code",
      "source": [
        "# Test\n",
        "test_x, test_y = generate_linear()\n",
        "pred_y = model.forward(test_x)\n",
        "acc = model.accuracy(pred_y, test_y)\n",
        "print(f'Linear predict:\\n{pred_y}')\n",
        "print(f'Linear accuracy : {acc:.2%}')"
      ],
      "metadata": {
        "colab": {
          "base_uri": "https://localhost:8080/"
        },
        "outputId": "9ab4e380-c302-4792-ad2e-1514f9985ab0",
        "id": "3z5CI1tFVfa9"
      },
      "execution_count": null,
      "outputs": [
        {
          "output_type": "stream",
          "name": "stdout",
          "text": [
            "Linear predict:\n",
            "[[0.08696538]\n",
            " [0.9675251 ]\n",
            " [0.46583731]\n",
            " [0.18556066]\n",
            " [0.44394635]\n",
            " [0.87917322]\n",
            " [0.8242231 ]\n",
            " [0.50839185]\n",
            " [0.01392587]\n",
            " [0.16795465]\n",
            " [0.24631602]\n",
            " [0.7654037 ]\n",
            " [0.30828942]\n",
            " [0.18795594]\n",
            " [0.33540787]\n",
            " [0.81106152]\n",
            " [0.01215677]\n",
            " [0.95808108]\n",
            " [0.13462089]\n",
            " [0.33574974]\n",
            " [0.93966775]\n",
            " [0.95191758]\n",
            " [0.78381044]\n",
            " [0.94940036]\n",
            " [0.81582852]\n",
            " [0.02671763]\n",
            " [0.91466365]\n",
            " [0.13137962]\n",
            " [0.05238792]\n",
            " [0.33682181]\n",
            " [0.85894918]\n",
            " [0.83917856]\n",
            " [0.89856037]\n",
            " [0.86894957]\n",
            " [0.01694992]\n",
            " [0.89113014]\n",
            " [0.91856636]\n",
            " [0.02160443]\n",
            " [0.01689505]\n",
            " [0.70254889]\n",
            " [0.08633552]\n",
            " [0.07842293]\n",
            " [0.19665671]\n",
            " [0.83542988]\n",
            " [0.01945917]\n",
            " [0.85721521]\n",
            " [0.49671628]\n",
            " [0.3591728 ]\n",
            " [0.02199846]\n",
            " [0.96017222]\n",
            " [0.60691426]\n",
            " [0.79322324]\n",
            " [0.88979461]\n",
            " [0.73822843]\n",
            " [0.04008396]\n",
            " [0.12316664]\n",
            " [0.29456399]\n",
            " [0.18454436]\n",
            " [0.77993439]\n",
            " [0.9083849 ]\n",
            " [0.13236059]\n",
            " [0.86143173]\n",
            " [0.03647965]\n",
            " [0.97159292]\n",
            " [0.07829103]\n",
            " [0.01301286]\n",
            " [0.95371879]\n",
            " [0.13971316]\n",
            " [0.75026193]\n",
            " [0.06373097]\n",
            " [0.93178891]\n",
            " [0.79720722]\n",
            " [0.72097772]\n",
            " [0.96192896]\n",
            " [0.02668189]\n",
            " [0.96595153]\n",
            " [0.03216287]\n",
            " [0.08019752]\n",
            " [0.08714921]\n",
            " [0.19750881]\n",
            " [0.76332557]\n",
            " [0.97743345]\n",
            " [0.05725756]\n",
            " [0.68217484]\n",
            " [0.0152976 ]\n",
            " [0.05744084]\n",
            " [0.73644345]\n",
            " [0.39677167]\n",
            " [0.5386179 ]\n",
            " [0.0858698 ]\n",
            " [0.47863299]\n",
            " [0.017418  ]\n",
            " [0.02246906]\n",
            " [0.62703377]\n",
            " [0.58055572]\n",
            " [0.01805651]\n",
            " [0.04470162]\n",
            " [0.94947327]\n",
            " [0.61933774]\n",
            " [0.68778781]]\n",
            "Linear accuracy : 98.00%\n"
          ]
        }
      ]
    },
    {
      "cell_type": "code",
      "source": [
        "# draw result picture\n",
        "show_result(test_x, test_y, np.round(pred_y))"
      ],
      "metadata": {
        "colab": {
          "base_uri": "https://localhost:8080/",
          "height": 285
        },
        "outputId": "4adbe086-f644-4962-fd46-ed1d15804323",
        "id": "WFxPp8TsVfa-"
      },
      "execution_count": null,
      "outputs": [
        {
          "output_type": "display_data",
          "data": {
            "text/plain": [
              "<Figure size 432x288 with 2 Axes>"
            ],
            "image/png": "[encoded data removed]"
          },
          "metadata": {
            "needs_background": "light"
          }
        }
      ]
    },
    {
      "cell_type": "code",
      "source": [
        "# draw learning curve\n",
        "show_learning_curve(loss_curve)"
      ],
      "metadata": {
        "colab": {
          "base_uri": "https://localhost:8080/",
          "height": 299
        },
        "outputId": "0c0a2714-ba75-4fd4-9b6d-3f130a95d056",
        "id": "Eka9hT5FVfa-"
      },
      "execution_count": null,
      "outputs": [
        {
          "output_type": "display_data",
          "data": {
            "text/plain": [
              "<Figure size 432x288 with 1 Axes>"
            ],
            "image/png": "[encoded data removed]"
          },
          "metadata": {
            "needs_background": "light"
          }
        }
      ]
    },
    {
      "cell_type": "markdown",
      "source": [
        "## Learning Rate = 0.1"
      ],
      "metadata": {
        "id": "SVR9Qp5RVxGz"
      }
    },
    {
      "cell_type": "code",
      "source": [
        "# hyperparameters\n",
        "epoch_num = 100000\n",
        "lr = 0.1"
      ],
      "metadata": {
        "id": "PGDnRQW4VhcZ"
      },
      "execution_count": null,
      "outputs": []
    },
    {
      "cell_type": "code",
      "source": [
        "# Train\n",
        "# prepare data\n",
        "train_x, train_y = generate_linear(100)\n",
        "# create model\n",
        "model = Model()\n",
        "loss_curve = []\n",
        "start = time.time()\n",
        "\n",
        "for epoch in range(epoch_num):\n",
        "  # Forward pass\n",
        "  pred_y = model.forward(train_x)\n",
        "  # Backward pass\n",
        "  loss, derivative_loss = model.CrossEntropyLoss(pred_y, train_y)\n",
        "  model.backprop(derivative_loss)\n",
        "  # Update weights\n",
        "  model.update(lr)\n",
        "\n",
        "  # print state\n",
        "  if (epoch+1) % 5000 == 0:\n",
        "    total_loss = np.sum(loss)/train_x.shape[0]\n",
        "    loss_curve.append(total_loss)\n",
        "    acc = model.accuracy(pred_y, train_y)\n",
        "    train_time = int(time.time() - start)\n",
        "    print(f'epoch {epoch+1:5d} loss: {total_loss:7.5f} accuracy: {acc:.2%} time: {train_time:3d} sec')"
      ],
      "metadata": {
        "colab": {
          "base_uri": "https://localhost:8080/"
        },
        "outputId": "10b4d978-0da7-4391-a1c6-896b09d57403",
        "id": "a63WSDoCVhca"
      },
      "execution_count": null,
      "outputs": [
        {
          "output_type": "stream",
          "name": "stdout",
          "text": [
            "epoch  5000 loss: 0.00026 accuracy: 100.00% time:   1 sec\n",
            "epoch 10000 loss: 0.00010 accuracy: 100.00% time:   2 sec\n",
            "epoch 15000 loss: 0.00006 accuracy: 100.00% time:   4 sec\n",
            "epoch 20000 loss: 0.00004 accuracy: 100.00% time:   5 sec\n",
            "epoch 25000 loss: 0.00003 accuracy: 100.00% time:   6 sec\n",
            "epoch 30000 loss: 0.00002 accuracy: 100.00% time:   8 sec\n",
            "epoch 35000 loss: 0.00002 accuracy: 100.00% time:   9 sec\n",
            "epoch 40000 loss: 0.00002 accuracy: 100.00% time:  10 sec\n",
            "epoch 45000 loss: 0.00001 accuracy: 100.00% time:  11 sec\n",
            "epoch 50000 loss: 0.00001 accuracy: 100.00% time:  13 sec\n",
            "epoch 55000 loss: 0.00001 accuracy: 100.00% time:  14 sec\n",
            "epoch 60000 loss: 0.00001 accuracy: 100.00% time:  15 sec\n",
            "epoch 65000 loss: 0.00001 accuracy: 100.00% time:  17 sec\n",
            "epoch 70000 loss: 0.00001 accuracy: 100.00% time:  18 sec\n",
            "epoch 75000 loss: 0.00001 accuracy: 100.00% time:  19 sec\n",
            "epoch 80000 loss: 0.00001 accuracy: 100.00% time:  21 sec\n",
            "epoch 85000 loss: 0.00001 accuracy: 100.00% time:  22 sec\n",
            "epoch 90000 loss: 0.00001 accuracy: 100.00% time:  23 sec\n",
            "epoch 95000 loss: 0.00001 accuracy: 100.00% time:  25 sec\n",
            "epoch 100000 loss: 0.00001 accuracy: 100.00% time:  26 sec\n"
          ]
        }
      ]
    },
    {
      "cell_type": "code",
      "source": [
        "# Test\n",
        "test_x, test_y = generate_linear()\n",
        "pred_y = model.forward(test_x)\n",
        "acc = model.accuracy(pred_y, test_y)\n",
        "print(f'Linear predict:\\n{pred_y}')\n",
        "print(f'Linear accuracy : {acc:.2%}')"
      ],
      "metadata": {
        "colab": {
          "base_uri": "https://localhost:8080/"
        },
        "outputId": "6c5d481e-75e8-4a1a-bc82-2a313a52ea4c",
        "id": "9CxKJnyrVhcb"
      },
      "execution_count": null,
      "outputs": [
        {
          "output_type": "stream",
          "name": "stdout",
          "text": [
            "Linear predict:\n",
            "[[9.99999998e-01]\n",
            " [3.64224788e-09]\n",
            " [9.99999998e-01]\n",
            " [9.99999998e-01]\n",
            " [9.99999998e-01]\n",
            " [5.68160291e-05]\n",
            " [9.99999998e-01]\n",
            " [2.12271459e-09]\n",
            " [9.99999998e-01]\n",
            " [9.99999998e-01]\n",
            " [9.99999998e-01]\n",
            " [2.50538804e-09]\n",
            " [9.99999998e-01]\n",
            " [9.99999998e-01]\n",
            " [3.49567934e-09]\n",
            " [2.44621021e-09]\n",
            " [9.99999998e-01]\n",
            " [2.25538734e-09]\n",
            " [9.99999998e-01]\n",
            " [9.99999998e-01]\n",
            " [9.99999998e-01]\n",
            " [5.31378959e-07]\n",
            " [2.44986760e-09]\n",
            " [9.99999998e-01]\n",
            " [2.82105237e-09]\n",
            " [9.99999998e-01]\n",
            " [9.99999998e-01]\n",
            " [3.08714430e-09]\n",
            " [9.99999998e-01]\n",
            " [2.16111224e-09]\n",
            " [9.99999998e-01]\n",
            " [2.25811752e-09]\n",
            " [2.51034735e-09]\n",
            " [9.99999070e-01]\n",
            " [2.44745076e-09]\n",
            " [9.99999981e-01]\n",
            " [9.99999998e-01]\n",
            " [2.76248958e-09]\n",
            " [2.53931672e-09]\n",
            " [2.18398552e-09]\n",
            " [9.99999998e-01]\n",
            " [3.01613836e-09]\n",
            " [2.33795975e-09]\n",
            " [9.99999998e-01]\n",
            " [9.99999998e-01]\n",
            " [9.99999998e-01]\n",
            " [2.37721687e-09]\n",
            " [3.03587560e-09]\n",
            " [2.38013197e-09]\n",
            " [9.99999998e-01]\n",
            " [2.29620599e-09]\n",
            " [2.55368176e-09]\n",
            " [2.49607497e-09]\n",
            " [9.99999998e-01]\n",
            " [9.99999998e-01]\n",
            " [9.99999998e-01]\n",
            " [8.11605559e-09]\n",
            " [3.49146266e-09]\n",
            " [2.53162778e-09]\n",
            " [2.38702445e-09]\n",
            " [9.99999998e-01]\n",
            " [9.99999998e-01]\n",
            " [9.99999997e-01]\n",
            " [9.99999998e-01]\n",
            " [9.99999998e-01]\n",
            " [2.35659458e-09]\n",
            " [2.54373008e-09]\n",
            " [9.99999998e-01]\n",
            " [9.99999998e-01]\n",
            " [2.39861219e-09]\n",
            " [2.26726776e-09]\n",
            " [9.99999998e-01]\n",
            " [2.57143706e-09]\n",
            " [9.99999998e-01]\n",
            " [2.46215437e-09]\n",
            " [9.99999998e-01]\n",
            " [9.99999998e-01]\n",
            " [2.46315840e-09]\n",
            " [9.99999998e-01]\n",
            " [9.99999998e-01]\n",
            " [9.99999998e-01]\n",
            " [2.31779267e-09]\n",
            " [2.55287275e-09]\n",
            " [9.99999997e-01]\n",
            " [2.75714704e-09]\n",
            " [9.99999998e-01]\n",
            " [9.99999998e-01]\n",
            " [2.45835323e-09]\n",
            " [9.99999998e-01]\n",
            " [9.99999998e-01]\n",
            " [9.99999998e-01]\n",
            " [4.82245294e-09]\n",
            " [9.99999998e-01]\n",
            " [2.74089586e-09]\n",
            " [9.99999998e-01]\n",
            " [9.99999998e-01]\n",
            " [9.99999998e-01]\n",
            " [2.35888098e-09]\n",
            " [9.99999958e-01]\n",
            " [9.99999998e-01]]\n",
            "Linear accuracy : 100.00%\n"
          ]
        }
      ]
    },
    {
      "cell_type": "code",
      "source": [
        "# draw result picture\n",
        "show_result(test_x, test_y, np.round(pred_y))"
      ],
      "metadata": {
        "colab": {
          "base_uri": "https://localhost:8080/",
          "height": 285
        },
        "outputId": "0fc9930e-b405-43f8-dce7-3cbaa15ebbdd",
        "id": "E76oUzv4Vhcc"
      },
      "execution_count": null,
      "outputs": [
        {
          "output_type": "display_data",
          "data": {
            "text/plain": [
              "<Figure size 432x288 with 2 Axes>"
            ],
            "image/png": "[encoded data removed]"
          },
          "metadata": {
            "needs_background": "light"
          }
        }
      ]
    },
    {
      "cell_type": "code",
      "source": [
        "# draw learning curve\n",
        "show_learning_curve(loss_curve)"
      ],
      "metadata": {
        "colab": {
          "base_uri": "https://localhost:8080/",
          "height": 299
        },
        "outputId": "a1cc1d37-1230-4e30-dd9b-b3465f958db0",
        "id": "WkFbuajNVhcc"
      },
      "execution_count": null,
      "outputs": [
        {
          "output_type": "display_data",
          "data": {
            "text/plain": [
              "<Figure size 432x288 with 1 Axes>"
            ],
            "image/png": "[encoded data removed]"
          },
          "metadata": {
            "needs_background": "light"
          }
        }
      ]
    },
    {
      "cell_type": "markdown",
      "source": [
        "## 2 hidden units"
      ],
      "metadata": {
        "id": "-EQojNaCYSq9"
      }
    },
    {
      "cell_type": "code",
      "source": [
        "# hyperparameters\n",
        "epoch_num = 100000\n",
        "lr = 0.001"
      ],
      "metadata": {
        "id": "PHiGR2UJYhLq"
      },
      "execution_count": null,
      "outputs": []
    },
    {
      "cell_type": "code",
      "source": [
        "# Train\n",
        "# prepare data\n",
        "train_x, train_y = generate_linear(100)\n",
        "# create model\n",
        "model = Model(hidden_dim=2)\n",
        "loss_curve = []\n",
        "start = time.time()\n",
        "\n",
        "for epoch in range(epoch_num):\n",
        "  # Forward pass\n",
        "  pred_y = model.forward(train_x)\n",
        "  # Backward pass\n",
        "  loss, derivative_loss = model.CrossEntropyLoss(pred_y, train_y)\n",
        "  model.backprop(derivative_loss)\n",
        "  # Update weights\n",
        "  model.update(lr)\n",
        "\n",
        "  # print state\n",
        "  if (epoch+1) % 5000 == 0:\n",
        "    total_loss = np.sum(loss)/train_x.shape[0]\n",
        "    loss_curve.append(total_loss)\n",
        "    acc = model.accuracy(pred_y, train_y)\n",
        "    train_time = int(time.time() - start)\n",
        "    print(f'epoch {epoch+1:5d} loss: {total_loss:7.5f} accuracy: {acc:.2%} time: {train_time:3d} sec')"
      ],
      "metadata": {
        "colab": {
          "base_uri": "https://localhost:8080/"
        },
        "outputId": "874f0d66-84db-4c5c-f472-e232a4785ced",
        "id": "ioAcjkcRYhLr"
      },
      "execution_count": null,
      "outputs": [
        {
          "output_type": "stream",
          "name": "stdout",
          "text": [
            "epoch  5000 loss: 0.07400 accuracy: 100.00% time:   0 sec\n",
            "epoch 10000 loss: 0.03333 accuracy: 100.00% time:   1 sec\n",
            "epoch 15000 loss: 0.02165 accuracy: 100.00% time:   2 sec\n",
            "epoch 20000 loss: 0.01605 accuracy: 100.00% time:   3 sec\n",
            "epoch 25000 loss: 0.01269 accuracy: 100.00% time:   3 sec\n",
            "epoch 30000 loss: 0.01040 accuracy: 100.00% time:   4 sec\n",
            "epoch 35000 loss: 0.00873 accuracy: 100.00% time:   5 sec\n",
            "epoch 40000 loss: 0.00745 accuracy: 100.00% time:   5 sec\n",
            "epoch 45000 loss: 0.00645 accuracy: 100.00% time:   6 sec\n",
            "epoch 50000 loss: 0.00565 accuracy: 100.00% time:   7 sec\n",
            "epoch 55000 loss: 0.00499 accuracy: 100.00% time:   8 sec\n",
            "epoch 60000 loss: 0.00445 accuracy: 100.00% time:   8 sec\n",
            "epoch 65000 loss: 0.00400 accuracy: 100.00% time:   9 sec\n",
            "epoch 70000 loss: 0.00361 accuracy: 100.00% time:  10 sec\n",
            "epoch 75000 loss: 0.00329 accuracy: 100.00% time:  11 sec\n",
            "epoch 80000 loss: 0.00301 accuracy: 100.00% time:  11 sec\n",
            "epoch 85000 loss: 0.00276 accuracy: 100.00% time:  12 sec\n",
            "epoch 90000 loss: 0.00255 accuracy: 100.00% time:  13 sec\n",
            "epoch 95000 loss: 0.00236 accuracy: 100.00% time:  14 sec\n",
            "epoch 100000 loss: 0.00220 accuracy: 100.00% time:  14 sec\n"
          ]
        }
      ]
    },
    {
      "cell_type": "code",
      "source": [
        "# Test\n",
        "test_x, test_y = generate_linear()\n",
        "pred_y = model.forward(test_x)\n",
        "acc = model.accuracy(pred_y, test_y)\n",
        "print(f'Linear predict:\\n{pred_y}')\n",
        "print(f'Linear accuracy : {acc:.2%}')"
      ],
      "metadata": {
        "colab": {
          "base_uri": "https://localhost:8080/"
        },
        "outputId": "bdb1c3b4-be4a-419e-b6bf-ff1d3aa19664",
        "id": "LrRg0INTYhLs"
      },
      "execution_count": null,
      "outputs": [
        {
          "output_type": "stream",
          "name": "stdout",
          "text": [
            "Linear predict:\n",
            "[[3.32118134e-06]\n",
            " [3.28711340e-06]\n",
            " [3.40521851e-06]\n",
            " [3.29022693e-06]\n",
            " [9.99999430e-01]\n",
            " [4.89170412e-06]\n",
            " [9.99999426e-01]\n",
            " [9.99999372e-01]\n",
            " [3.28633011e-06]\n",
            " [9.99999432e-01]\n",
            " [3.28590849e-06]\n",
            " [9.99999432e-01]\n",
            " [9.99982153e-01]\n",
            " [3.28897155e-06]\n",
            " [9.99999355e-01]\n",
            " [3.45571678e-06]\n",
            " [9.99999432e-01]\n",
            " [9.99999373e-01]\n",
            " [9.99993481e-01]\n",
            " [3.28751802e-06]\n",
            " [9.99999433e-01]\n",
            " [9.99962680e-01]\n",
            " [9.99999432e-01]\n",
            " [9.99999433e-01]\n",
            " [9.99999430e-01]\n",
            " [3.79485405e-06]\n",
            " [3.34950982e-06]\n",
            " [9.99999377e-01]\n",
            " [9.99999421e-01]\n",
            " [9.99999412e-01]\n",
            " [3.28627303e-06]\n",
            " [9.99999011e-01]\n",
            " [3.29965146e-06]\n",
            " [3.45500263e-06]\n",
            " [9.99998570e-01]\n",
            " [9.99998494e-01]\n",
            " [9.99999426e-01]\n",
            " [9.99999132e-01]\n",
            " [3.65977612e-06]\n",
            " [9.99862336e-01]\n",
            " [3.28613553e-06]\n",
            " [9.99999363e-01]\n",
            " [9.99999420e-01]\n",
            " [2.17802985e-05]\n",
            " [9.99999419e-01]\n",
            " [9.99999419e-01]\n",
            " [3.35674049e-06]\n",
            " [3.32821071e-06]\n",
            " [3.28984241e-06]\n",
            " [9.52781635e-06]\n",
            " [9.99999339e-01]\n",
            " [3.29102656e-06]\n",
            " [3.30273915e-06]\n",
            " [3.38481933e-06]\n",
            " [3.28822310e-06]\n",
            " [3.28845440e-06]\n",
            " [9.99999273e-01]\n",
            " [3.85194904e-06]\n",
            " [3.29117082e-06]\n",
            " [9.99999426e-01]\n",
            " [9.99999383e-01]\n",
            " [5.99721833e-04]\n",
            " [9.99999426e-01]\n",
            " [9.99999394e-01]\n",
            " [3.28758093e-06]\n",
            " [9.99999428e-01]\n",
            " [9.99996412e-01]\n",
            " [9.99999432e-01]\n",
            " [3.29009955e-06]\n",
            " [9.99999432e-01]\n",
            " [4.13230062e-06]\n",
            " [9.99999431e-01]\n",
            " [5.93417671e-01]\n",
            " [9.99999415e-01]\n",
            " [3.30247641e-06]\n",
            " [9.99999429e-01]\n",
            " [9.99999433e-01]\n",
            " [9.99990615e-01]\n",
            " [9.99999432e-01]\n",
            " [9.99999433e-01]\n",
            " [3.30187604e-06]\n",
            " [3.92066825e-06]\n",
            " [9.99999422e-01]\n",
            " [3.29046483e-06]\n",
            " [9.99987973e-01]\n",
            " [3.28600921e-06]\n",
            " [6.44428961e-06]\n",
            " [4.71156264e-06]\n",
            " [9.99999220e-01]\n",
            " [3.30892411e-06]\n",
            " [3.28955379e-06]\n",
            " [3.28589628e-06]\n",
            " [9.99999422e-01]\n",
            " [3.54167511e-06]\n",
            " [9.99999416e-01]\n",
            " [3.31088773e-06]\n",
            " [9.99999433e-01]\n",
            " [4.41444630e-06]\n",
            " [9.97983466e-01]\n",
            " [9.99996990e-01]]\n",
            "Linear accuracy : 100.00%\n"
          ]
        }
      ]
    },
    {
      "cell_type": "code",
      "source": [
        "# draw result picture\n",
        "show_result(test_x, test_y, np.round(pred_y))"
      ],
      "metadata": {
        "colab": {
          "base_uri": "https://localhost:8080/",
          "height": 285
        },
        "outputId": "040e2ccb-8338-4cd8-d6d8-1c90b07f89e2",
        "id": "-HL2JIWfYhLs"
      },
      "execution_count": null,
      "outputs": [
        {
          "output_type": "display_data",
          "data": {
            "text/plain": [
              "<Figure size 432x288 with 2 Axes>"
            ],
            "image/png": "[encoded data removed]"
          },
          "metadata": {
            "needs_background": "light"
          }
        }
      ]
    },
    {
      "cell_type": "code",
      "source": [
        "# draw learning curve\n",
        "show_learning_curve(loss_curve)"
      ],
      "metadata": {
        "colab": {
          "base_uri": "https://localhost:8080/",
          "height": 299
        },
        "outputId": "4d252954-7b2f-43b3-d3d6-7cf9bd2080ca",
        "id": "RjCS7WiDYhLt"
      },
      "execution_count": null,
      "outputs": [
        {
          "output_type": "display_data",
          "data": {
            "text/plain": [
              "<Figure size 432x288 with 1 Axes>"
            ],
            "image/png": "[encoded data removed]"
          },
          "metadata": {
            "needs_background": "light"
          }
        }
      ]
    },
    {
      "cell_type": "markdown",
      "source": [
        "## 5 hidden units"
      ],
      "metadata": {
        "id": "gkXtQlFkYjqT"
      }
    },
    {
      "cell_type": "code",
      "source": [
        "# hyperparameters\n",
        "epoch_num = 100000\n",
        "lr = 0.001"
      ],
      "metadata": {
        "id": "s2XlyO0kYh3E"
      },
      "execution_count": null,
      "outputs": []
    },
    {
      "cell_type": "code",
      "source": [
        "# Train\n",
        "# prepare data\n",
        "train_x, train_y = generate_linear(100)\n",
        "# create model\n",
        "model = Model(hidden_dim=5)\n",
        "loss_curve = []\n",
        "start = time.time()\n",
        "\n",
        "for epoch in range(epoch_num):\n",
        "  # Forward pass\n",
        "  pred_y = model.forward(train_x)\n",
        "  # Backward pass\n",
        "  loss, derivative_loss = model.CrossEntropyLoss(pred_y, train_y)\n",
        "  model.backprop(derivative_loss)\n",
        "  # Update weights\n",
        "  model.update(lr)\n",
        "\n",
        "  # print state\n",
        "  if (epoch+1) % 5000 == 0:\n",
        "    total_loss = np.sum(loss)/train_x.shape[0]\n",
        "    loss_curve.append(total_loss)\n",
        "    acc = model.accuracy(pred_y, train_y)\n",
        "    train_time = int(time.time() - start)\n",
        "    print(f'epoch {epoch+1:5d} loss: {total_loss:7.5f} accuracy: {acc:.2%} time: {train_time:3d} sec')"
      ],
      "metadata": {
        "colab": {
          "base_uri": "https://localhost:8080/"
        },
        "outputId": "8e96fb40-e765-4186-b547-fed051da05f0",
        "id": "Jd0grJ6EYh3E"
      },
      "execution_count": null,
      "outputs": [
        {
          "output_type": "stream",
          "name": "stdout",
          "text": [
            "epoch  5000 loss: 0.05553 accuracy: 100.00% time:   0 sec\n",
            "epoch 10000 loss: 0.02441 accuracy: 100.00% time:   1 sec\n",
            "epoch 15000 loss: 0.01404 accuracy: 100.00% time:   2 sec\n",
            "epoch 20000 loss: 0.00926 accuracy: 100.00% time:   3 sec\n",
            "epoch 25000 loss: 0.00666 accuracy: 100.00% time:   4 sec\n",
            "epoch 30000 loss: 0.00509 accuracy: 100.00% time:   5 sec\n",
            "epoch 35000 loss: 0.00406 accuracy: 100.00% time:   6 sec\n",
            "epoch 40000 loss: 0.00334 accuracy: 100.00% time:   7 sec\n",
            "epoch 45000 loss: 0.00281 accuracy: 100.00% time:   8 sec\n",
            "epoch 50000 loss: 0.00242 accuracy: 100.00% time:   9 sec\n",
            "epoch 55000 loss: 0.00211 accuracy: 100.00% time:  10 sec\n",
            "epoch 60000 loss: 0.00187 accuracy: 100.00% time:  11 sec\n",
            "epoch 65000 loss: 0.00167 accuracy: 100.00% time:  12 sec\n",
            "epoch 70000 loss: 0.00151 accuracy: 100.00% time:  13 sec\n",
            "epoch 75000 loss: 0.00137 accuracy: 100.00% time:  14 sec\n",
            "epoch 80000 loss: 0.00125 accuracy: 100.00% time:  15 sec\n",
            "epoch 85000 loss: 0.00115 accuracy: 100.00% time:  16 sec\n",
            "epoch 90000 loss: 0.00107 accuracy: 100.00% time:  17 sec\n",
            "epoch 95000 loss: 0.00099 accuracy: 100.00% time:  18 sec\n",
            "epoch 100000 loss: 0.00093 accuracy: 100.00% time:  19 sec\n"
          ]
        }
      ]
    },
    {
      "cell_type": "code",
      "source": [
        "# Test\n",
        "test_x, test_y = generate_linear()\n",
        "pred_y = model.forward(test_x)\n",
        "acc = model.accuracy(pred_y, test_y)\n",
        "print(f'Linear predict:\\n{pred_y}')\n",
        "print(f'Linear accuracy : {acc:.2%}')"
      ],
      "metadata": {
        "colab": {
          "base_uri": "https://localhost:8080/"
        },
        "outputId": "c5ee131b-a27b-40d6-dd93-13a9ec890c7f",
        "id": "KAN0CdAoYh3F"
      },
      "execution_count": null,
      "outputs": [
        {
          "output_type": "stream",
          "name": "stdout",
          "text": [
            "Linear predict:\n",
            "[[6.21113519e-07]\n",
            " [9.99997520e-01]\n",
            " [9.99999168e-01]\n",
            " [9.99999285e-01]\n",
            " [9.99752289e-01]\n",
            " [6.50648614e-07]\n",
            " [7.01772586e-07]\n",
            " [9.99998792e-01]\n",
            " [6.24817967e-07]\n",
            " [7.73764838e-07]\n",
            " [9.99999083e-01]\n",
            " [1.32013850e-05]\n",
            " [6.33363921e-07]\n",
            " [6.31025264e-07]\n",
            " [9.99999315e-01]\n",
            " [9.99999307e-01]\n",
            " [7.23454786e-07]\n",
            " [8.79974493e-06]\n",
            " [8.48792035e-07]\n",
            " [9.99998077e-01]\n",
            " [9.99995798e-01]\n",
            " [7.08931858e-07]\n",
            " [9.99999329e-01]\n",
            " [9.99999245e-01]\n",
            " [6.10914833e-01]\n",
            " [8.20317013e-01]\n",
            " [6.54266456e-07]\n",
            " [9.99999304e-01]\n",
            " [6.33985591e-07]\n",
            " [9.99999196e-01]\n",
            " [6.25759476e-07]\n",
            " [3.07405748e-06]\n",
            " [1.09216129e-03]\n",
            " [9.99999324e-01]\n",
            " [9.99999256e-01]\n",
            " [4.36259408e-06]\n",
            " [7.46170937e-07]\n",
            " [9.99979335e-01]\n",
            " [3.34835136e-04]\n",
            " [6.28167268e-07]\n",
            " [9.99999324e-01]\n",
            " [6.23814092e-07]\n",
            " [6.31606808e-07]\n",
            " [9.72396613e-01]\n",
            " [6.55183570e-07]\n",
            " [9.99999291e-01]\n",
            " [9.99999278e-01]\n",
            " [9.99999321e-01]\n",
            " [9.99999075e-01]\n",
            " [6.46785202e-07]\n",
            " [8.05435636e-07]\n",
            " [9.99999009e-01]\n",
            " [6.55243967e-07]\n",
            " [9.99971984e-01]\n",
            " [9.99871414e-01]\n",
            " [9.99999159e-01]\n",
            " [6.09653359e-03]\n",
            " [3.33187471e-06]\n",
            " [9.99999067e-01]\n",
            " [1.31998013e-06]\n",
            " [7.53142280e-07]\n",
            " [9.99998592e-01]\n",
            " [1.33940505e-06]\n",
            " [9.99999316e-01]\n",
            " [9.99999255e-01]\n",
            " [6.28115722e-07]\n",
            " [9.99991674e-01]\n",
            " [6.46098143e-07]\n",
            " [6.24633557e-07]\n",
            " [9.89858437e-01]\n",
            " [8.73389872e-07]\n",
            " [9.99999259e-01]\n",
            " [9.99999328e-01]\n",
            " [9.99999323e-01]\n",
            " [6.73450911e-07]\n",
            " [2.12286752e-05]\n",
            " [8.51861205e-01]\n",
            " [9.99998992e-01]\n",
            " [7.88149425e-06]\n",
            " [1.45280758e-03]\n",
            " [9.99999298e-01]\n",
            " [9.99990001e-01]\n",
            " [6.26639012e-07]\n",
            " [6.96820097e-07]\n",
            " [9.99999140e-01]\n",
            " [9.99999203e-01]\n",
            " [6.43022530e-07]\n",
            " [6.99027968e-07]\n",
            " [6.26765326e-07]\n",
            " [6.63230438e-07]\n",
            " [1.85978402e-05]\n",
            " [9.99999085e-01]\n",
            " [6.24237382e-07]\n",
            " [2.85648074e-05]\n",
            " [6.74675375e-07]\n",
            " [9.99998873e-01]\n",
            " [6.30893821e-07]\n",
            " [9.99994532e-01]\n",
            " [8.14652425e-07]\n",
            " [3.68833997e-06]]\n",
            "Linear accuracy : 100.00%\n"
          ]
        }
      ]
    },
    {
      "cell_type": "code",
      "source": [
        "# draw result picture\n",
        "show_result(test_x, test_y, np.round(pred_y))"
      ],
      "metadata": {
        "colab": {
          "base_uri": "https://localhost:8080/",
          "height": 285
        },
        "outputId": "6d67ce5c-1597-4c59-9d86-cb7477e7c9ab",
        "id": "WThRgD7kYh3F"
      },
      "execution_count": null,
      "outputs": [
        {
          "output_type": "display_data",
          "data": {
            "text/plain": [
              "<Figure size 432x288 with 2 Axes>"
            ],
            "image/png": "[encoded data removed]"
          },
          "metadata": {
            "needs_background": "light"
          }
        }
      ]
    },
    {
      "cell_type": "code",
      "source": [
        "# draw learning curve\n",
        "show_learning_curve(loss_curve)"
      ],
      "metadata": {
        "colab": {
          "base_uri": "https://localhost:8080/",
          "height": 299
        },
        "outputId": "2d2cc410-bf20-4eb3-f7d0-6f65817a732c",
        "id": "TjMhynyaYh3F"
      },
      "execution_count": null,
      "outputs": [
        {
          "output_type": "display_data",
          "data": {
            "text/plain": [
              "<Figure size 432x288 with 1 Axes>"
            ],
            "image/png": "[encoded data removed]"
          },
          "metadata": {
            "needs_background": "light"
          }
        }
      ]
    },
    {
      "cell_type": "markdown",
      "source": [
        "## without Activation function"
      ],
      "metadata": {
        "id": "Wx14WWpzZ7L9"
      }
    },
    {
      "cell_type": "code",
      "source": [
        "# hyperparameters\n",
        "epoch_num = 100\n",
        "lr = 0.001"
      ],
      "metadata": {
        "id": "xX1-rAm6aGxZ"
      },
      "execution_count": 48,
      "outputs": []
    },
    {
      "cell_type": "code",
      "source": [
        "def normalize(arr):\n",
        "  arr = arr.astype('float')\n",
        "  minval = arr.min()\n",
        "  maxval = arr.max()\n",
        "  if minval != maxval:\n",
        "    arr -= minval\n",
        "    arr *= (1.0/(maxval-minval))\n",
        "  return arr"
      ],
      "metadata": {
        "id": "mr0LWEk1I3VN"
      },
      "execution_count": 38,
      "outputs": []
    },
    {
      "cell_type": "code",
      "source": [
        "# Train\n",
        "# prepare data\n",
        "train_x, train_y = generate_linear(100)\n",
        "# create model\n",
        "model = Model(ACT=None)\n",
        "loss_curve = []\n",
        "start = time.time()\n",
        "\n",
        "for epoch in range(epoch_num):\n",
        "  # Forward pass\n",
        "  pred_y = model.forward(train_x)\n",
        "  pred_y = normalize(pred_y)\n",
        "  # Backward pass\n",
        "  loss, derivative_loss = model.MSELoss(pred_y, train_y)\n",
        "  model.backprop(derivative_loss)\n",
        "  # Update weights\n",
        "  model.update(lr)\n",
        "\n",
        "  # print state\n",
        "  if (epoch+1) % 10 == 0:\n",
        "    total_loss = np.sum(loss)/train_x.shape[0]\n",
        "    loss_curve.append(total_loss)\n",
        "    acc = model.accuracy(pred_y, train_y)\n",
        "    train_time = int(time.time() - start)\n",
        "    print(f'epoch {epoch+1:5d} loss: {total_loss:7.5f} accuracy: {acc:.2%} time: {train_time:3d} sec')"
      ],
      "metadata": {
        "colab": {
          "base_uri": "https://localhost:8080/"
        },
        "outputId": "bb2918a3-8e83-4666-fdd3-e4d6c3b067fb",
        "id": "JkMoPobAaGxb"
      },
      "execution_count": 49,
      "outputs": [
        {
          "output_type": "stream",
          "name": "stdout",
          "text": [
            "epoch    10 loss: 0.13632 accuracy: 85.00% time:   0 sec\n",
            "epoch    20 loss: 0.13559 accuracy: 85.00% time:   0 sec\n",
            "epoch    30 loss: 0.13588 accuracy: 85.00% time:   0 sec\n",
            "epoch    40 loss: 0.13643 accuracy: 84.00% time:   0 sec\n",
            "epoch    50 loss:     nan accuracy: 0.00% time:   0 sec\n",
            "epoch    60 loss:     nan accuracy: 0.00% time:   0 sec\n",
            "epoch    70 loss:     nan accuracy: 0.00% time:   0 sec\n",
            "epoch    80 loss:     nan accuracy: 0.00% time:   0 sec\n",
            "epoch    90 loss:     nan accuracy: 0.00% time:   0 sec\n",
            "epoch   100 loss:     nan accuracy: 0.00% time:   0 sec\n"
          ]
        },
        {
          "output_type": "stream",
          "name": "stderr",
          "text": [
            "/usr/local/lib/python3.7/dist-packages/ipykernel_launcher.py:10: RuntimeWarning: overflow encountered in matmul\n",
            "  # Remove the CWD from sys.path while we load stuff.\n",
            "/usr/local/lib/python3.7/dist-packages/ipykernel_launcher.py:6: RuntimeWarning: invalid value encountered in subtract\n",
            "  \n",
            "/usr/local/lib/python3.7/dist-packages/ipykernel_launcher.py:7: RuntimeWarning: invalid value encountered in multiply\n",
            "  import sys\n"
          ]
        }
      ]
    },
    {
      "cell_type": "code",
      "source": [
        "# Test\n",
        "test_x, test_y = generate_linear()\n",
        "pred_y = model.forward(test_x)\n",
        "acc = model.accuracy(pred_y, test_y)\n",
        "print(f'Linear predict:\\n{pred_y}')\n",
        "print(f'Linear accuracy : {acc:.2%}')"
      ],
      "metadata": {
        "colab": {
          "base_uri": "https://localhost:8080/"
        },
        "outputId": "4340c534-95be-42f8-82fd-2ca65c8d25a9",
        "id": "Wady2O_BaGxc"
      },
      "execution_count": 50,
      "outputs": [
        {
          "output_type": "stream",
          "name": "stdout",
          "text": [
            "Linear predict:\n",
            "[[nan]\n",
            " [nan]\n",
            " [nan]\n",
            " [nan]\n",
            " [nan]\n",
            " [nan]\n",
            " [nan]\n",
            " [nan]\n",
            " [nan]\n",
            " [nan]\n",
            " [nan]\n",
            " [nan]\n",
            " [nan]\n",
            " [nan]\n",
            " [nan]\n",
            " [nan]\n",
            " [nan]\n",
            " [nan]\n",
            " [nan]\n",
            " [nan]\n",
            " [nan]\n",
            " [nan]\n",
            " [nan]\n",
            " [nan]\n",
            " [nan]\n",
            " [nan]\n",
            " [nan]\n",
            " [nan]\n",
            " [nan]\n",
            " [nan]\n",
            " [nan]\n",
            " [nan]\n",
            " [nan]\n",
            " [nan]\n",
            " [nan]\n",
            " [nan]\n",
            " [nan]\n",
            " [nan]\n",
            " [nan]\n",
            " [nan]\n",
            " [nan]\n",
            " [nan]\n",
            " [nan]\n",
            " [nan]\n",
            " [nan]\n",
            " [nan]\n",
            " [nan]\n",
            " [nan]\n",
            " [nan]\n",
            " [nan]\n",
            " [nan]\n",
            " [nan]\n",
            " [nan]\n",
            " [nan]\n",
            " [nan]\n",
            " [nan]\n",
            " [nan]\n",
            " [nan]\n",
            " [nan]\n",
            " [nan]\n",
            " [nan]\n",
            " [nan]\n",
            " [nan]\n",
            " [nan]\n",
            " [nan]\n",
            " [nan]\n",
            " [nan]\n",
            " [nan]\n",
            " [nan]\n",
            " [nan]\n",
            " [nan]\n",
            " [nan]\n",
            " [nan]\n",
            " [nan]\n",
            " [nan]\n",
            " [nan]\n",
            " [nan]\n",
            " [nan]\n",
            " [nan]\n",
            " [nan]\n",
            " [nan]\n",
            " [nan]\n",
            " [nan]\n",
            " [nan]\n",
            " [nan]\n",
            " [nan]\n",
            " [nan]\n",
            " [nan]\n",
            " [nan]\n",
            " [nan]\n",
            " [nan]\n",
            " [nan]\n",
            " [nan]\n",
            " [nan]\n",
            " [nan]\n",
            " [nan]\n",
            " [nan]\n",
            " [nan]\n",
            " [nan]\n",
            " [nan]]\n",
            "Linear accuracy : 0.00%\n"
          ]
        }
      ]
    },
    {
      "cell_type": "code",
      "source": [
        "# draw result picture\n",
        "show_result(test_x, test_y, np.round(pred_y))"
      ],
      "metadata": {
        "colab": {
          "base_uri": "https://localhost:8080/",
          "height": 285
        },
        "outputId": "4e0cd49f-6d0b-432b-cb22-599b309ad2b7",
        "id": "3AoXuN1aaGxe"
      },
      "execution_count": null,
      "outputs": [
        {
          "output_type": "display_data",
          "data": {
            "text/plain": [
              "<Figure size 432x288 with 2 Axes>"
            ],
            "image/png": "[encoded data removed]"
          },
          "metadata": {
            "needs_background": "light"
          }
        }
      ]
    },
    {
      "cell_type": "code",
      "source": [
        "# draw learning curve\n",
        "show_learning_curve(loss_curve)"
      ],
      "metadata": {
        "colab": {
          "base_uri": "https://localhost:8080/",
          "height": 299
        },
        "outputId": "fdafa555-1efa-42d9-9886-17e90b6281d5",
        "id": "iQEQ4Jj2aGxe"
      },
      "execution_count": null,
      "outputs": [
        {
          "output_type": "display_data",
          "data": {
            "text/plain": [
              "<Figure size 432x288 with 1 Axes>"
            ],
            "image/png": "[encoded data removed]"
          },
          "metadata": {
            "needs_background": "light"
          }
        }
      ]
    },
    {
      "cell_type": "markdown",
      "source": [
        "# Extra"
      ],
      "metadata": {
        "id": "jJ7IwCNJfP-V"
      }
    },
    {
      "cell_type": "markdown",
      "source": [
        "## Differenet Activation Function"
      ],
      "metadata": {
        "id": "ox9VA4GxfSeA"
      }
    },
    {
      "cell_type": "code",
      "source": [
        "# hyperparameters\n",
        "epoch_num = 100000\n",
        "lr = 0.001"
      ],
      "metadata": {
        "id": "jwxo_-YpkgO4"
      },
      "execution_count": 27,
      "outputs": []
    },
    {
      "cell_type": "code",
      "source": [
        "# Train\n",
        "# prepare data\n",
        "train_x, train_y = generate_linear(100)\n",
        "# create model\n",
        "model = Model(ACT='tanh')\n",
        "loss_curve = []\n",
        "start = time.time()\n",
        "\n",
        "for epoch in range(epoch_num):\n",
        "  # Forward pass\n",
        "  pred_y = model.forward(train_x)\n",
        "  # pred_y: (-1, 1) => (0, 1)\n",
        "  pred_y = (pred_y+1) / 2\n",
        "  # Backward pass\n",
        "  loss, derivative_loss = model.MSELoss(pred_y, train_y)\n",
        "  model.backprop(derivative_loss)\n",
        "  # Update weights\n",
        "  model.update(lr)\n",
        "\n",
        "  # print state\n",
        "  if (epoch+1) % 5000 == 0:\n",
        "    total_loss = np.sum(loss)/train_x.shape[0]\n",
        "    loss_curve.append(total_loss)\n",
        "    acc = model.accuracy(pred_y, train_y)\n",
        "    train_time = int(time.time() - start)\n",
        "    print(f'epoch {epoch+1:5d} loss: {total_loss:7.5f} accuracy: {acc:.2%} time: {train_time:3d} sec')"
      ],
      "metadata": {
        "colab": {
          "base_uri": "https://localhost:8080/"
        },
        "outputId": "90b40b21-65e2-451c-ea32-df349f901e01",
        "id": "Tm9Okm7NkgO6"
      },
      "execution_count": 33,
      "outputs": [
        {
          "output_type": "stream",
          "name": "stdout",
          "text": [
            "epoch  5000 loss: 0.00327 accuracy: 100.00% time:   0 sec\n",
            "epoch 10000 loss: 0.00089 accuracy: 100.00% time:   1 sec\n",
            "epoch 15000 loss: 0.00043 accuracy: 100.00% time:   2 sec\n",
            "epoch 20000 loss: 0.00026 accuracy: 100.00% time:   3 sec\n",
            "epoch 25000 loss: 0.00018 accuracy: 100.00% time:   4 sec\n",
            "epoch 30000 loss: 0.00014 accuracy: 100.00% time:   5 sec\n",
            "epoch 35000 loss: 0.00011 accuracy: 100.00% time:   6 sec\n",
            "epoch 40000 loss: 0.00009 accuracy: 100.00% time:   7 sec\n",
            "epoch 45000 loss: 0.00008 accuracy: 100.00% time:   8 sec\n",
            "epoch 50000 loss: 0.00007 accuracy: 100.00% time:   8 sec\n",
            "epoch 55000 loss: 0.00006 accuracy: 100.00% time:   9 sec\n",
            "epoch 60000 loss: 0.00005 accuracy: 100.00% time:  10 sec\n",
            "epoch 65000 loss: 0.00005 accuracy: 100.00% time:  11 sec\n",
            "epoch 70000 loss: 0.00004 accuracy: 100.00% time:  12 sec\n",
            "epoch 75000 loss: 0.00004 accuracy: 100.00% time:  13 sec\n",
            "epoch 80000 loss: 0.00004 accuracy: 100.00% time:  14 sec\n",
            "epoch 85000 loss: 0.00003 accuracy: 100.00% time:  15 sec\n",
            "epoch 90000 loss: 0.00003 accuracy: 100.00% time:  16 sec\n",
            "epoch 95000 loss: 0.00003 accuracy: 100.00% time:  17 sec\n",
            "epoch 100000 loss: 0.00003 accuracy: 100.00% time:  17 sec\n"
          ]
        }
      ]
    },
    {
      "cell_type": "code",
      "source": [
        "# Test\n",
        "test_x, test_y = generate_linear()\n",
        "pred_y = model.forward(test_x)\n",
        "pred_y = (pred_y+1) / 2\n",
        "acc = model.accuracy(pred_y, test_y)\n",
        "print(f'Linear predict:\\n{pred_y}')\n",
        "print(f'Linear accuracy : {acc:.2%}')"
      ],
      "metadata": {
        "colab": {
          "base_uri": "https://localhost:8080/"
        },
        "outputId": "d58f52bf-ff3b-4857-f03a-6b6a1e9dd28e",
        "id": "Dt2vk2gBkgO8"
      },
      "execution_count": 34,
      "outputs": [
        {
          "output_type": "stream",
          "name": "stdout",
          "text": [
            "Linear predict:\n",
            "[[8.40966186e-12]\n",
            " [8.96333008e-12]\n",
            " [1.80925415e-06]\n",
            " [8.01296252e-11]\n",
            " [1.02329811e-11]\n",
            " [9.61819513e-12]\n",
            " [2.77340373e-11]\n",
            " [1.09078302e-11]\n",
            " [8.81550388e-12]\n",
            " [6.81231738e-11]\n",
            " [1.16779364e-11]\n",
            " [9.07374176e-12]\n",
            " [8.77337092e-12]\n",
            " [1.00000000e+00]\n",
            " [1.00000000e+00]\n",
            " [8.48437987e-12]\n",
            " [1.00000000e+00]\n",
            " [1.00000000e+00]\n",
            " [1.00000000e+00]\n",
            " [1.00000000e+00]\n",
            " [1.00000000e+00]\n",
            " [7.93742849e-12]\n",
            " [6.45071924e-09]\n",
            " [7.92999000e-12]\n",
            " [9.93946186e-01]\n",
            " [1.00000000e+00]\n",
            " [1.00000000e+00]\n",
            " [1.13121179e-11]\n",
            " [1.49081691e-10]\n",
            " [9.96098204e-11]\n",
            " [9.42166900e-11]\n",
            " [1.00000000e+00]\n",
            " [8.17407253e-12]\n",
            " [1.80964133e-11]\n",
            " [1.00000000e+00]\n",
            " [6.49106879e-11]\n",
            " [8.06449352e-12]\n",
            " [1.00000000e+00]\n",
            " [6.23117126e-06]\n",
            " [1.00000000e+00]\n",
            " [3.02824432e-11]\n",
            " [2.32368014e-11]\n",
            " [7.67045033e-09]\n",
            " [9.99980792e-01]\n",
            " [9.32814936e-12]\n",
            " [1.00000000e+00]\n",
            " [1.00000000e+00]\n",
            " [1.00000000e+00]\n",
            " [1.38106850e-08]\n",
            " [2.52600290e-07]\n",
            " [2.25482411e-11]\n",
            " [1.05698783e-11]\n",
            " [1.00000000e+00]\n",
            " [1.15076282e-11]\n",
            " [1.00000000e+00]\n",
            " [1.00000000e+00]\n",
            " [1.00000000e+00]\n",
            " [1.00000000e+00]\n",
            " [9.45660217e-12]\n",
            " [1.86370364e-11]\n",
            " [1.00000000e+00]\n",
            " [2.42915456e-08]\n",
            " [1.00336961e-11]\n",
            " [3.93519828e-10]\n",
            " [1.00000000e+00]\n",
            " [8.88860916e-01]\n",
            " [2.95113933e-11]\n",
            " [2.88736646e-10]\n",
            " [9.98259567e-01]\n",
            " [1.00000000e+00]\n",
            " [1.00000000e+00]\n",
            " [1.00000000e+00]\n",
            " [1.00000000e+00]\n",
            " [4.66202032e-04]\n",
            " [1.00000000e+00]\n",
            " [7.69071668e-05]\n",
            " [1.18882126e-11]\n",
            " [9.62807611e-12]\n",
            " [1.00000000e+00]\n",
            " [8.83043638e-12]\n",
            " [1.00000000e+00]\n",
            " [2.29070818e-09]\n",
            " [9.34760346e-01]\n",
            " [8.01386735e-12]\n",
            " [1.00000000e+00]\n",
            " [1.00000000e+00]\n",
            " [1.00000000e+00]\n",
            " [1.06415432e-11]\n",
            " [1.00000000e+00]\n",
            " [1.00000000e+00]\n",
            " [1.00000000e+00]\n",
            " [8.25367552e-12]\n",
            " [1.00000000e+00]\n",
            " [8.69188055e-12]\n",
            " [1.86899559e-08]\n",
            " [1.00000000e+00]\n",
            " [9.81736914e-12]\n",
            " [1.00000000e+00]\n",
            " [1.04771747e-11]\n",
            " [1.00000000e+00]]\n",
            "Linear accuracy : 99.00%\n"
          ]
        }
      ]
    },
    {
      "cell_type": "code",
      "source": [
        "# draw result picture\n",
        "show_result(test_x, test_y, np.round(pred_y))"
      ],
      "metadata": {
        "colab": {
          "base_uri": "https://localhost:8080/",
          "height": 285
        },
        "outputId": "a57c2e3f-ab42-4370-aa48-81bb19c23537",
        "id": "X0Jhho7ZkgO9"
      },
      "execution_count": 35,
      "outputs": [
        {
          "output_type": "display_data",
          "data": {
            "text/plain": [
              "<Figure size 432x288 with 2 Axes>"
            ],
            "image/png": "[encoded data removed]"
          },
          "metadata": {
            "needs_background": "light"
          }
        }
      ]
    },
    {
      "cell_type": "code",
      "source": [
        "# draw learning curve\n",
        "show_learning_curve(loss_curve)"
      ],
      "metadata": {
        "colab": {
          "base_uri": "https://localhost:8080/",
          "height": 299
        },
        "outputId": "0efd23cb-d053-4cfc-b070-d81bb56f3dbc",
        "id": "WRhYlPBxkgO-"
      },
      "execution_count": 36,
      "outputs": [
        {
          "output_type": "display_data",
          "data": {
            "text/plain": [
              "<Figure size 432x288 with 1 Axes>"
            ],
            "image/png": "[encoded data removed]"
          },
          "metadata": {
            "needs_background": "light"
          }
        }
      ]
    }
  ]
}